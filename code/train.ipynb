{
 "cells": [
  {
   "cell_type": "code",
   "execution_count": 1,
   "metadata": {},
   "outputs": [],
   "source": [
    "%reload_ext autoreload\n",
    "%autoreload 2\n",
    "%matplotlib inline\n",
    "\n",
    "import matplotlib.pyplot as plt"
   ]
  },
  {
   "cell_type": "code",
   "execution_count": 8,
   "metadata": {},
   "outputs": [],
   "source": [
    "from __future__ import print_function\n",
    "import keras\n",
    "from keras.models import load_model\n",
    "from keras.models import Sequential\n",
    "from keras.preprocessing.image import ImageDataGenerator\n",
    "from keras.layers import Dense, Dropout, Activation, Flatten\n",
    "from keras.layers import Conv2D, MaxPooling2D\n",
    "from keras.callbacks import TensorBoard\n",
    "from keras import applications\n",
    "from keras.models import Model, load_model\n",
    "import numpy as np\n",
    "from sklearn.metrics import confusion_matrix\n",
    "\n",
    "from time import time"
   ]
  },
  {
   "cell_type": "code",
   "execution_count": 3,
   "metadata": {},
   "outputs": [],
   "source": [
    "# Data generators, data augmentation\n",
    "batch_size = 32\n",
    "\n",
    "train = ImageDataGenerator(rotation_range = 15.0,\n",
    "    horizontal_flip = True)\n",
    "\n",
    "test = ImageDataGenerator(rotation_range = 15.0,\n",
    "    horizontal_flip = True)"
   ]
  },
  {
   "cell_type": "code",
   "execution_count": 4,
   "metadata": {},
   "outputs": [
    {
     "name": "stdout",
     "output_type": "stream",
     "text": [
      "Found 1620 images belonging to 6 classes.\n",
      "Found 504 images belonging to 6 classes.\n",
      "Found 403 images belonging to 6 classes.\n"
     ]
    }
   ],
   "source": [
    "# Target directories \n",
    "trainGenerator = train.flow_from_directory('../data/trashnet/_train_', target_size = (224, 224), batch_size=batch_size,\n",
    "    class_mode = \"categorical\", color_mode = \"rgb\", shuffle=True, seed=42)\n",
    "\n",
    "testGenerator = test.flow_from_directory('../data/trashnet/_test_', target_size = (224, 224), batch_size=1,\n",
    "    class_mode = \"categorical\", color_mode = \"rgb\", shuffle=True, seed=42)\n",
    "\n",
    "validationGenerator = test.flow_from_directory('../data/trashnet/_valid_', target_size = (224, 224), batch_size=batch_size,\n",
    "    class_mode = \"categorical\", color_mode = \"rgb\", shuffle=True, seed=42)"
   ]
  },
  {
   "cell_type": "code",
   "execution_count": 5,
   "metadata": {},
   "outputs": [],
   "source": [
    "# Neural network\n",
    "base = applications.densenet.DenseNet169(weights='imagenet', input_shape=(224, 224, 3), include_top=False)\n",
    "\n",
    "x = Flatten()(base.output)\n",
    "x = Dropout(0.5)(x)\n",
    "x = Dense(6, activation='softmax')(x)\n",
    "model = Model(inputs=base.inputs, outputs=x)"
   ]
  },
  {
   "cell_type": "code",
   "execution_count": 50,
   "metadata": {},
   "outputs": [
    {
     "name": "stdout",
     "output_type": "stream",
     "text": [
      "_________________________________________________________________\n",
      "Layer (type)                 Output Shape              Param #   \n",
      "=================================================================\n",
      "input_7 (InputLayer)         (None, 224, 224, 3)       0         \n",
      "_________________________________________________________________\n",
      "block1_conv1 (Conv2D)        (None, 224, 224, 64)      1792      \n",
      "_________________________________________________________________\n",
      "block1_conv2 (Conv2D)        (None, 224, 224, 64)      36928     \n",
      "_________________________________________________________________\n",
      "block1_pool (MaxPooling2D)   (None, 112, 112, 64)      0         \n",
      "_________________________________________________________________\n",
      "block2_conv1 (Conv2D)        (None, 112, 112, 128)     73856     \n",
      "_________________________________________________________________\n",
      "block2_conv2 (Conv2D)        (None, 112, 112, 128)     147584    \n",
      "_________________________________________________________________\n",
      "block2_pool (MaxPooling2D)   (None, 56, 56, 128)       0         \n",
      "_________________________________________________________________\n",
      "block3_conv1 (Conv2D)        (None, 56, 56, 256)       295168    \n",
      "_________________________________________________________________\n",
      "block3_conv2 (Conv2D)        (None, 56, 56, 256)       590080    \n",
      "_________________________________________________________________\n",
      "block3_conv3 (Conv2D)        (None, 56, 56, 256)       590080    \n",
      "_________________________________________________________________\n",
      "block3_conv4 (Conv2D)        (None, 56, 56, 256)       590080    \n",
      "_________________________________________________________________\n",
      "block3_pool (MaxPooling2D)   (None, 28, 28, 256)       0         \n",
      "_________________________________________________________________\n",
      "block4_conv1 (Conv2D)        (None, 28, 28, 512)       1180160   \n",
      "_________________________________________________________________\n",
      "block4_conv2 (Conv2D)        (None, 28, 28, 512)       2359808   \n",
      "_________________________________________________________________\n",
      "block4_conv3 (Conv2D)        (None, 28, 28, 512)       2359808   \n",
      "_________________________________________________________________\n",
      "block4_conv4 (Conv2D)        (None, 28, 28, 512)       2359808   \n",
      "_________________________________________________________________\n",
      "block4_pool (MaxPooling2D)   (None, 14, 14, 512)       0         \n",
      "_________________________________________________________________\n",
      "block5_conv1 (Conv2D)        (None, 14, 14, 512)       2359808   \n",
      "_________________________________________________________________\n",
      "block5_conv2 (Conv2D)        (None, 14, 14, 512)       2359808   \n",
      "_________________________________________________________________\n",
      "block5_conv3 (Conv2D)        (None, 14, 14, 512)       2359808   \n",
      "_________________________________________________________________\n",
      "block5_conv4 (Conv2D)        (None, 14, 14, 512)       2359808   \n",
      "_________________________________________________________________\n",
      "block5_pool (MaxPooling2D)   (None, 7, 7, 512)         0         \n",
      "_________________________________________________________________\n",
      "flatten_7 (Flatten)          (None, 25088)             0         \n",
      "_________________________________________________________________\n",
      "dropout_7 (Dropout)          (None, 25088)             0         \n",
      "_________________________________________________________________\n",
      "dense_7 (Dense)              (None, 5)                 125445    \n",
      "=================================================================\n",
      "Total params: 20,149,829\n",
      "Trainable params: 20,149,829\n",
      "Non-trainable params: 0\n",
      "_________________________________________________________________\n",
      "None\n"
     ]
    }
   ],
   "source": [
    "# Print a summary of the network\n",
    "print(model.summary())"
   ]
  },
  {
   "cell_type": "code",
   "execution_count": 51,
   "metadata": {},
   "outputs": [],
   "source": [
    "# Set optimizer and loss function\n",
    "opt = keras.optimizers.SGD(lr = 0.0001, momentum = 0.01)\n",
    "optt = keras.optimizers.RMSprop(lr = 0.0001)\n",
    "opt_adam = keras.optimizers.Adam(lr=0.0001, amsgrad=True)\n",
    "model.compile(loss='categorical_crossentropy',\n",
    "            optimizer=opt_adam,\n",
    "            metrics=['categorical_accuracy'])"
   ]
  },
  {
   "cell_type": "code",
   "execution_count": 6,
   "metadata": {},
   "outputs": [],
   "source": [
    "# callbacks\n",
    "tensorboard = TensorBoard(log_dir=\"logs/minc-2500-{}-VGG19-bs32\".format(time()))\n",
    "reduce_lr = keras.callbacks.ReduceLROnPlateau(monitor='val_loss', factor=0.1, patience=5, min_lr=0.00000001, min_delta=1e-2)\n",
    "checkpoint = keras.callbacks.ModelCheckpoint('minc-2500-weights.{epoch:02d}-{val_loss:.2f}-VGG19-bs32.hdf5', monitor='val_loss', \n",
    "        verbose=1, save_best_only=True, save_weights_only=False, mode='min', period=1)"
   ]
  },
  {
   "cell_type": "code",
   "execution_count": 53,
   "metadata": {
    "scrolled": false
   },
   "outputs": [
    {
     "name": "stdout",
     "output_type": "stream",
     "text": [
      "Epoch 1/50\n",
      "2000/2000 [==============================] - 1036s 518ms/step - loss: 1.5999 - categorical_accuracy: 0.2550 - val_loss: 1.4078 - val_categorical_accuracy: 0.4045\n",
      "\n",
      "Epoch 00001: val_loss improved from inf to 1.40775, saving model to minc-2500-weights.01-1.41-VGG19-bs32.hdf5\n",
      "Epoch 2/50\n",
      "2000/2000 [==============================] - 1070s 535ms/step - loss: 1.1464 - categorical_accuracy: 0.5435 - val_loss: 0.9609 - val_categorical_accuracy: 0.6340\n",
      "\n",
      "Epoch 00002: val_loss improved from 1.40775 to 0.96091, saving model to minc-2500-weights.02-0.96-VGG19-bs32.hdf5\n",
      "Epoch 3/50\n",
      "2000/2000 [==============================] - 974s 487ms/step - loss: 0.7728 - categorical_accuracy: 0.7184 - val_loss: 0.7839 - val_categorical_accuracy: 0.7316\n",
      "\n",
      "Epoch 00003: val_loss improved from 0.96091 to 0.78389, saving model to minc-2500-weights.03-0.78-VGG19-bs32.hdf5\n",
      "Epoch 4/50\n",
      "2000/2000 [==============================] - 994s 497ms/step - loss: 0.6220 - categorical_accuracy: 0.7762 - val_loss: 0.7247 - val_categorical_accuracy: 0.7463\n",
      "\n",
      "Epoch 00004: val_loss improved from 0.78389 to 0.72471, saving model to minc-2500-weights.04-0.72-VGG19-bs32.hdf5\n",
      "Epoch 5/50\n",
      "2000/2000 [==============================] - 971s 485ms/step - loss: 0.5051 - categorical_accuracy: 0.8200 - val_loss: 0.7796 - val_categorical_accuracy: 0.7426\n",
      "\n",
      "Epoch 00005: val_loss did not improve from 0.72471\n",
      "Epoch 6/50\n",
      "2000/2000 [==============================] - 971s 486ms/step - loss: 0.4128 - categorical_accuracy: 0.8573 - val_loss: 0.9028 - val_categorical_accuracy: 0.7361\n",
      "\n",
      "Epoch 00006: val_loss did not improve from 0.72471\n",
      "Epoch 7/50\n",
      "2000/2000 [==============================] - 966s 483ms/step - loss: 0.3385 - categorical_accuracy: 0.8833 - val_loss: 0.8729 - val_categorical_accuracy: 0.7403\n",
      "\n",
      "Epoch 00007: val_loss did not improve from 0.72471\n",
      "Epoch 8/50\n",
      "2000/2000 [==============================] - 988s 494ms/step - loss: 0.2794 - categorical_accuracy: 0.9038 - val_loss: 1.0647 - val_categorical_accuracy: 0.7460\n",
      "\n",
      "Epoch 00008: val_loss did not improve from 0.72471\n",
      "Epoch 9/50\n",
      "2000/2000 [==============================] - 995s 498ms/step - loss: 0.2358 - categorical_accuracy: 0.9197 - val_loss: 1.0289 - val_categorical_accuracy: 0.7325\n",
      "\n",
      "Epoch 00009: val_loss did not improve from 0.72471\n",
      "Epoch 10/50\n",
      "2000/2000 [==============================] - 1003s 501ms/step - loss: 0.0909 - categorical_accuracy: 0.9701 - val_loss: 1.2256 - val_categorical_accuracy: 0.7550\n",
      "\n",
      "Epoch 00010: val_loss did not improve from 0.72471\n",
      "Epoch 11/50\n",
      "2000/2000 [==============================] - 992s 496ms/step - loss: 0.0638 - categorical_accuracy: 0.9799 - val_loss: 1.3118 - val_categorical_accuracy: 0.7570\n",
      "\n",
      "Epoch 00011: val_loss did not improve from 0.72471\n",
      "Epoch 12/50\n",
      "2000/2000 [==============================] - 1022s 511ms/step - loss: 0.0530 - categorical_accuracy: 0.9831 - val_loss: 1.3335 - val_categorical_accuracy: 0.7593\n",
      "\n",
      "Epoch 00012: val_loss did not improve from 0.72471\n",
      "Epoch 13/50\n",
      "2000/2000 [==============================] - 1047s 524ms/step - loss: 0.0422 - categorical_accuracy: 0.9866 - val_loss: 1.3986 - val_categorical_accuracy: 0.7567\n",
      "\n",
      "Epoch 00013: val_loss did not improve from 0.72471\n",
      "Epoch 14/50\n",
      "2000/2000 [==============================] - 1009s 504ms/step - loss: 0.0375 - categorical_accuracy: 0.9879 - val_loss: 1.4229 - val_categorical_accuracy: 0.7577\n",
      "\n",
      "Epoch 00014: val_loss did not improve from 0.72471\n",
      "Epoch 15/50\n",
      "2000/2000 [==============================] - 1028s 514ms/step - loss: 0.0315 - categorical_accuracy: 0.9904 - val_loss: 1.4455 - val_categorical_accuracy: 0.7583\n",
      "\n",
      "Epoch 00015: val_loss did not improve from 0.72471\n",
      "Epoch 16/50\n",
      "2000/2000 [==============================] - 1066s 533ms/step - loss: 0.0314 - categorical_accuracy: 0.9905 - val_loss: 1.4391 - val_categorical_accuracy: 0.7575\n",
      "\n",
      "Epoch 00016: val_loss did not improve from 0.72471\n",
      "Epoch 17/50\n",
      "2000/2000 [==============================] - 1064s 532ms/step - loss: 0.0326 - categorical_accuracy: 0.9900 - val_loss: 1.4604 - val_categorical_accuracy: 0.7573\n",
      "\n",
      "Epoch 00017: val_loss did not improve from 0.72471\n",
      "Epoch 18/50\n",
      "2000/2000 [==============================] - 1054s 527ms/step - loss: 0.0318 - categorical_accuracy: 0.9902 - val_loss: 1.4594 - val_categorical_accuracy: 0.7566\n",
      "\n",
      "Epoch 00018: val_loss did not improve from 0.72471\n",
      "Epoch 19/50\n",
      "2000/2000 [==============================] - 1020s 510ms/step - loss: 0.0315 - categorical_accuracy: 0.9907 - val_loss: 1.4458 - val_categorical_accuracy: 0.7619\n",
      "\n",
      "Epoch 00019: val_loss did not improve from 0.72471\n",
      "Epoch 20/50\n",
      "2000/2000 [==============================] - 1027s 513ms/step - loss: 0.0299 - categorical_accuracy: 0.9908 - val_loss: 1.4530 - val_categorical_accuracy: 0.7621\n",
      "\n",
      "Epoch 00020: val_loss did not improve from 0.72471\n",
      "Epoch 21/50\n",
      "2000/2000 [==============================] - 1020s 510ms/step - loss: 0.0301 - categorical_accuracy: 0.9910 - val_loss: 1.4699 - val_categorical_accuracy: 0.7566\n",
      "\n",
      "Epoch 00021: val_loss did not improve from 0.72471\n",
      "Epoch 22/50\n",
      "2000/2000 [==============================] - 1023s 512ms/step - loss: 0.0275 - categorical_accuracy: 0.9915 - val_loss: 1.4768 - val_categorical_accuracy: 0.7599\n",
      "\n",
      "Epoch 00022: val_loss did not improve from 0.72471\n",
      "Epoch 23/50\n",
      "2000/2000 [==============================] - 1060s 530ms/step - loss: 0.0293 - categorical_accuracy: 0.9908 - val_loss: 1.4689 - val_categorical_accuracy: 0.7582\n",
      "\n",
      "Epoch 00023: val_loss did not improve from 0.72471\n",
      "Epoch 24/50\n",
      "2000/2000 [==============================] - 1015s 507ms/step - loss: 0.0294 - categorical_accuracy: 0.9909 - val_loss: 1.4630 - val_categorical_accuracy: 0.7573\n",
      "\n",
      "Epoch 00024: val_loss did not improve from 0.72471\n",
      "Epoch 25/50\n",
      "2000/2000 [==============================] - 996s 498ms/step - loss: 0.0286 - categorical_accuracy: 0.9912 - val_loss: 1.4620 - val_categorical_accuracy: 0.7602\n",
      "\n",
      "Epoch 00025: val_loss did not improve from 0.72471\n",
      "Epoch 26/50\n",
      "2000/2000 [==============================] - 995s 498ms/step - loss: 0.0275 - categorical_accuracy: 0.9912 - val_loss: 1.4672 - val_categorical_accuracy: 0.7609\n",
      "\n",
      "Epoch 00026: val_loss did not improve from 0.72471\n",
      "Epoch 27/50\n",
      "2000/2000 [==============================] - 1005s 502ms/step - loss: 0.0282 - categorical_accuracy: 0.9908 - val_loss: 1.4718 - val_categorical_accuracy: 0.7566\n",
      "\n",
      "Epoch 00027: val_loss did not improve from 0.72471\n",
      "Epoch 28/50\n",
      "2000/2000 [==============================] - 1130s 565ms/step - loss: 0.0300 - categorical_accuracy: 0.9906 - val_loss: 1.4482 - val_categorical_accuracy: 0.7591\n",
      "\n",
      "Epoch 00028: val_loss did not improve from 0.72471\n",
      "Epoch 29/50\n",
      "2000/2000 [==============================] - 1099s 549ms/step - loss: 0.0279 - categorical_accuracy: 0.9911 - val_loss: 1.4948 - val_categorical_accuracy: 0.7569\n",
      "\n",
      "Epoch 00029: val_loss did not improve from 0.72471\n",
      "Epoch 30/50\n",
      "2000/2000 [==============================] - 997s 499ms/step - loss: 0.0289 - categorical_accuracy: 0.9910 - val_loss: 1.4608 - val_categorical_accuracy: 0.7583\n",
      "\n",
      "Epoch 00030: val_loss did not improve from 0.72471\n",
      "Epoch 31/50\n",
      "2000/2000 [==============================] - 1000s 500ms/step - loss: 0.0299 - categorical_accuracy: 0.9907 - val_loss: 1.4670 - val_categorical_accuracy: 0.7582\n",
      "\n",
      "Epoch 00031: val_loss did not improve from 0.72471\n",
      "Epoch 32/50\n",
      "2000/2000 [==============================] - 1041s 520ms/step - loss: 0.0280 - categorical_accuracy: 0.9917 - val_loss: 1.4728 - val_categorical_accuracy: 0.7543\n",
      "\n",
      "Epoch 00032: val_loss did not improve from 0.72471\n",
      "Epoch 33/50\n",
      "2000/2000 [==============================] - 1009s 504ms/step - loss: 0.0279 - categorical_accuracy: 0.9914 - val_loss: 1.4878 - val_categorical_accuracy: 0.7564\n",
      "\n",
      "Epoch 00033: val_loss did not improve from 0.72471\n",
      "Epoch 34/50\n",
      "2000/2000 [==============================] - 1001s 500ms/step - loss: 0.0276 - categorical_accuracy: 0.9914 - val_loss: 1.4672 - val_categorical_accuracy: 0.7578\n",
      "\n",
      "Epoch 00034: val_loss did not improve from 0.72471\n",
      "Epoch 35/50\n",
      "2000/2000 [==============================] - 997s 498ms/step - loss: 0.0293 - categorical_accuracy: 0.9912 - val_loss: 1.4656 - val_categorical_accuracy: 0.7553\n",
      "\n",
      "Epoch 00035: val_loss did not improve from 0.72471\n",
      "Epoch 36/50\n",
      "2000/2000 [==============================] - 1012s 506ms/step - loss: 0.0294 - categorical_accuracy: 0.9906 - val_loss: 1.4524 - val_categorical_accuracy: 0.7590\n",
      "\n",
      "Epoch 00036: val_loss did not improve from 0.72471\n",
      "Epoch 37/50\n",
      "2000/2000 [==============================] - 1036s 518ms/step - loss: 0.0297 - categorical_accuracy: 0.9909 - val_loss: 1.4671 - val_categorical_accuracy: 0.7589\n",
      "\n",
      "Epoch 00037: val_loss did not improve from 0.72471\n",
      "Epoch 38/50\n",
      "2000/2000 [==============================] - 1015s 507ms/step - loss: 0.0276 - categorical_accuracy: 0.9913 - val_loss: 1.4629 - val_categorical_accuracy: 0.7570\n",
      "\n",
      "Epoch 00038: val_loss did not improve from 0.72471\n",
      "Epoch 39/50\n",
      "2000/2000 [==============================] - 1017s 509ms/step - loss: 0.0291 - categorical_accuracy: 0.9910 - val_loss: 1.4576 - val_categorical_accuracy: 0.7589\n",
      "\n",
      "Epoch 00039: val_loss did not improve from 0.72471\n",
      "Epoch 40/50\n",
      "2000/2000 [==============================] - 1038s 519ms/step - loss: 0.0293 - categorical_accuracy: 0.9911 - val_loss: 1.4731 - val_categorical_accuracy: 0.7557\n",
      "\n",
      "Epoch 00040: val_loss did not improve from 0.72471\n",
      "Epoch 41/50\n",
      "2000/2000 [==============================] - 1005s 503ms/step - loss: 0.0266 - categorical_accuracy: 0.9916 - val_loss: 1.4633 - val_categorical_accuracy: 0.7585\n",
      "\n",
      "Epoch 00041: val_loss did not improve from 0.72471\n",
      "Epoch 42/50\n",
      "2000/2000 [==============================] - 989s 494ms/step - loss: 0.0278 - categorical_accuracy: 0.9915 - val_loss: 1.4775 - val_categorical_accuracy: 0.7585\n",
      "\n",
      "Epoch 00042: val_loss did not improve from 0.72471\n",
      "Epoch 43/50\n",
      "2000/2000 [==============================] - 1022s 511ms/step - loss: 0.0279 - categorical_accuracy: 0.9913 - val_loss: 1.4553 - val_categorical_accuracy: 0.7598\n",
      "\n",
      "Epoch 00043: val_loss did not improve from 0.72471\n",
      "Epoch 44/50\n",
      "2000/2000 [==============================] - 982s 491ms/step - loss: 0.0285 - categorical_accuracy: 0.9915 - val_loss: 1.4687 - val_categorical_accuracy: 0.7581\n",
      "\n",
      "Epoch 00044: val_loss did not improve from 0.72471\n",
      "Epoch 45/50\n",
      "2000/2000 [==============================] - 979s 490ms/step - loss: 0.0310 - categorical_accuracy: 0.9903 - val_loss: 1.4563 - val_categorical_accuracy: 0.7575\n",
      "\n",
      "Epoch 00045: val_loss did not improve from 0.72471\n",
      "Epoch 46/50\n",
      "2000/2000 [==============================] - 982s 491ms/step - loss: 0.0283 - categorical_accuracy: 0.9913 - val_loss: 1.4757 - val_categorical_accuracy: 0.7584\n",
      "\n",
      "Epoch 00046: val_loss did not improve from 0.72471\n",
      "Epoch 47/50\n",
      "2000/2000 [==============================] - 1011s 506ms/step - loss: 0.0281 - categorical_accuracy: 0.9913 - val_loss: 1.4311 - val_categorical_accuracy: 0.7604\n",
      "\n",
      "Epoch 00047: val_loss did not improve from 0.72471\n",
      "Epoch 48/50\n",
      "2000/2000 [==============================] - 975s 487ms/step - loss: 0.0285 - categorical_accuracy: 0.9913 - val_loss: 1.4645 - val_categorical_accuracy: 0.7584\n",
      "\n",
      "Epoch 00048: val_loss did not improve from 0.72471\n",
      "Epoch 49/50\n",
      "2000/2000 [==============================] - 977s 488ms/step - loss: 0.0295 - categorical_accuracy: 0.9908 - val_loss: 1.4758 - val_categorical_accuracy: 0.7554\n",
      "\n",
      "Epoch 00049: val_loss did not improve from 0.72471\n",
      "Epoch 50/50\n",
      "2000/2000 [==============================] - 982s 491ms/step - loss: 0.0273 - categorical_accuracy: 0.9919 - val_loss: 1.4883 - val_categorical_accuracy: 0.7566\n",
      "\n",
      "Epoch 00050: val_loss did not improve from 0.72471\n"
     ]
    },
    {
     "data": {
      "text/plain": [
       "<keras.callbacks.History at 0x28bd856b6d8>"
      ]
     },
     "execution_count": 53,
     "metadata": {},
     "output_type": "execute_result"
    }
   ],
   "source": [
    "# Fit the model!\n",
    "model.fit_generator(trainGenerator,\n",
    "            steps_per_epoch = 2000,\n",
    "            epochs = 50,\n",
    "            validation_data = validationGenerator,\n",
    "            validation_steps = 800,\n",
    "            callbacks=[tensorboard, reduce_lr, checkpoint])"
   ]
  },
  {
   "cell_type": "code",
   "execution_count": 7,
   "metadata": {
    "scrolled": true
   },
   "outputs": [
    {
     "name": "stdout",
     "output_type": "stream",
     "text": [
      "Confusion Matrix\n"
     ]
    },
    {
     "ename": "NameError",
     "evalue": "name 'confusion_matrix' is not defined",
     "output_type": "error",
     "traceback": [
      "\u001b[1;31m---------------------------------------------------------------------------\u001b[0m",
      "\u001b[1;31mNameError\u001b[0m                                 Traceback (most recent call last)",
      "\u001b[1;32m<ipython-input-7-845ee88a4058>\u001b[0m in \u001b[0;36m<module>\u001b[1;34m\u001b[0m\n\u001b[0;32m     12\u001b[0m \u001b[0my_pred\u001b[0m \u001b[1;33m=\u001b[0m \u001b[0mnp\u001b[0m\u001b[1;33m.\u001b[0m\u001b[0margmax\u001b[0m\u001b[1;33m(\u001b[0m\u001b[0mY_pred\u001b[0m\u001b[1;33m,\u001b[0m \u001b[0maxis\u001b[0m\u001b[1;33m=\u001b[0m\u001b[1;36m1\u001b[0m\u001b[1;33m)\u001b[0m\u001b[1;33m\u001b[0m\u001b[1;33m\u001b[0m\u001b[0m\n\u001b[0;32m     13\u001b[0m \u001b[0mprint\u001b[0m\u001b[1;33m(\u001b[0m\u001b[1;34m'Confusion Matrix'\u001b[0m\u001b[1;33m)\u001b[0m\u001b[1;33m\u001b[0m\u001b[1;33m\u001b[0m\u001b[0m\n\u001b[1;32m---> 14\u001b[1;33m \u001b[0mprint\u001b[0m\u001b[1;33m(\u001b[0m\u001b[0mconfusion_matrix\u001b[0m\u001b[1;33m(\u001b[0m\u001b[0mvalidation_generator\u001b[0m\u001b[1;33m.\u001b[0m\u001b[0mclasses\u001b[0m\u001b[1;33m,\u001b[0m \u001b[0my_pred\u001b[0m\u001b[1;33m)\u001b[0m\u001b[1;33m)\u001b[0m\u001b[1;33m\u001b[0m\u001b[1;33m\u001b[0m\u001b[0m\n\u001b[0m\u001b[0;32m     15\u001b[0m \u001b[1;33m\u001b[0m\u001b[0m\n\u001b[0;32m     16\u001b[0m \u001b[1;31m#model.save('my_model.h5')\u001b[0m\u001b[1;33m\u001b[0m\u001b[1;33m\u001b[0m\u001b[1;33m\u001b[0m\u001b[0m\n",
      "\u001b[1;31mNameError\u001b[0m: name 'confusion_matrix' is not defined"
     ]
    }
   ],
   "source": [
    "from keras.models import load_model\n",
    "model = load_model('GUI-Model-trashnet-weights.30-0.20-DenseNet169.hdf5', compile=False)\n",
    "opt_adam = keras.optimizers.Adam(lr=0.0001, amsgrad=True)\n",
    "model.compile(loss='categorical_crossentropy', optimizer=opt_adam, metrics=['categorical_accuracy', \n",
    "                                                                            'mean_squared_error', \n",
    "                                                                            'mean_absolute_error', \n",
    "                                                                            'mean_squared_logarithmic_error'])"
   ]
  },
  {
   "cell_type": "code",
   "execution_count": 31,
   "metadata": {},
   "outputs": [],
   "source": [
    "Y_pred = model.predict_generator(testGenerator, 504)\n",
    "y_pred = np.argmax(Y_pred, axis=1)"
   ]
  },
  {
   "cell_type": "code",
   "execution_count": 32,
   "metadata": {},
   "outputs": [
    {
     "name": "stdout",
     "output_type": "stream",
     "text": [
      "Confusion Matrix\n",
      "[[14 15 16 15 14  6]\n",
      " [11 18 22 26 18  5]\n",
      " [10 13 18 22 11  8]\n",
      " [28 18 17 26 25  5]\n",
      " [20 22 14 26 11  3]\n",
      " [ 6  4  6  7  1  3]]\n"
     ]
    }
   ],
   "source": [
    "print('Confusion Matrix')\n",
    "print(confusion_matrix(testGenerator.classes, y_pred))"
   ]
  },
  {
   "cell_type": "code",
   "execution_count": 33,
   "metadata": {},
   "outputs": [
    {
     "data": {
      "image/png": "[encoded data removed]",
      "text/plain": [
       "<Figure size 640x640 with 2 Axes>"
      ]
     },
     "metadata": {},
     "output_type": "display_data"
    }
   ],
   "source": [
    "import matplotlib.pyplot as plt\n",
    "import numpy as np\n",
    "\n",
    "cm = confusion_matrix(testGenerator.classes, y_pred)\n",
    "# or\n",
    "#cm = np.array([[1401,    0],[1112, 0]])\n",
    "\n",
    "plt.figure(figsize=(8, 8), dpi= 80, facecolor='w', edgecolor='k')\n",
    "plt.imshow(cm, cmap=plt.cm.Blues)\n",
    "plt.xlabel(\"Predicted labels\")\n",
    "plt.ylabel(\"True labels\")\n",
    "plt.xticks([], [])\n",
    "plt.yticks([], [])\n",
    "plt.title('Confusion matrix ')\n",
    "plt.colorbar()\n",
    "plt.show()"
   ]
  },
  {
   "cell_type": "code",
   "execution_count": 54,
   "metadata": {},
   "outputs": [
    {
     "name": "stdout",
     "output_type": "stream",
     "text": [
      "Confusion matrix, without normalization\n",
      "[[14 15 16 15 14  6]\n",
      " [11 18 22 26 18  5]\n",
      " [10 13 18 22 11  8]\n",
      " [28 18 17 26 25  5]\n",
      " [20 22 14 26 11  3]\n",
      " [ 6  4  6  7  1  3]]\n",
      "Normalized confusion matrix\n",
      "[[0.17 0.19 0.2  0.19 0.17 0.07]\n",
      " [0.11 0.18 0.22 0.26 0.18 0.05]\n",
      " [0.12 0.16 0.22 0.27 0.13 0.1 ]\n",
      " [0.24 0.15 0.14 0.22 0.21 0.04]\n",
      " [0.21 0.23 0.15 0.27 0.11 0.03]\n",
      " [0.22 0.15 0.22 0.26 0.04 0.11]]\n"
     ]
    },
    {
     "data": {
      "text/plain": [
       "<matplotlib.axes._subplots.AxesSubplot at 0x214ad5f0588>"
      ]
     },
     "execution_count": 54,
     "metadata": {},
     "output_type": "execute_result"
    },
    {
     "data": {
      "image/png": "[encoded data removed]",
      "text/plain": [
       "<Figure size 648x648 with 2 Axes>"
      ]
     },
     "metadata": {
      "needs_background": "light"
     },
     "output_type": "display_data"
    },
    {
     "data": {
      "text/plain": [
       "<Figure size 640x640 with 0 Axes>"
      ]
     },
     "metadata": {},
     "output_type": "display_data"
    },
    {
     "data": {
      "image/png": "[encoded data removed]",
      "text/plain": [
       "<Figure size 648x648 with 2 Axes>"
      ]
     },
     "metadata": {
      "needs_background": "light"
     },
     "output_type": "display_data"
    },
    {
     "data": {
      "text/plain": [
       "<Figure size 640x640 with 0 Axes>"
      ]
     },
     "metadata": {},
     "output_type": "display_data"
    }
   ],
   "source": [
    "from sklearn.utils.multiclass import unique_labels\n",
    "plt.rcParams['figure.figsize'] = (9, 9)\n",
    "\n",
    "def plot_confusion_matrix(y_true, y_pred, classes,\n",
    "                          normalize=False,\n",
    "                          title=None,\n",
    "                          cmap=plt.cm.Blues):\n",
    "    \"\"\"\n",
    "    This function prints and plots the confusion matrix.\n",
    "    Normalization can be applied by setting `normalize=True`.\n",
    "    \"\"\"\n",
    "    if not title:\n",
    "        if normalize:\n",
    "            title = 'Normalized confusion matrix'\n",
    "        else:\n",
    "            title = 'Confusion matrix, without normalization'\n",
    "\n",
    "    # Compute confusion matrix\n",
    "    cm = confusion_matrix(y_true, y_pred)\n",
    "    # Only use the labels that appear in the data\n",
    "   # classes = classes[unique_labels(y_true, y_pred)]\n",
    "    if normalize:\n",
    "        cm = cm.astype('float') / cm.sum(axis=1)[:, np.newaxis]\n",
    "        print(\"Normalized confusion matrix\")\n",
    "    else:\n",
    "        print('Confusion matrix, without normalization')\n",
    "\n",
    "    print(cm)\n",
    "\n",
    "    fig, ax = plt.subplots()\n",
    "    fig = plt.figure(figsize=(8, 8), dpi= 80, facecolor='w', edgecolor='k')\n",
    "    im = ax.imshow(cm, interpolation='nearest', cmap=cmap)\n",
    "    ax.figure.colorbar(im, ax=ax)\n",
    "    # We want to show all ticks...\n",
    "    ax.set(xticks=np.arange(cm.shape[1]),\n",
    "           yticks=np.arange(cm.shape[0]),\n",
    "           # ... and label them with the respective list entries\n",
    "           xticklabels=classes, yticklabels=classes,\n",
    "           title=title,\n",
    "           ylabel='True label',\n",
    "           xlabel='Predicted label')\n",
    "    # Rotate the tick labels and set their alignment.\n",
    "    plt.setp(ax.get_xticklabels(), rotation=45, ha=\"right\",\n",
    "             rotation_mode=\"anchor\")\n",
    "    \n",
    "    # Loop over data dimensions and create text annotations.\n",
    "    fmt = '.2f' if normalize else 'd'\n",
    "    thresh = cm.max() / 2.\n",
    "    for i in range(cm.shape[0]):\n",
    "        for j in range(cm.shape[1]):\n",
    "            ax.text(j, i, format(cm[i, j], fmt),\n",
    "                    ha=\"center\", va=\"center\",\n",
    "                    color=\"white\" if cm[i, j] > thresh else \"black\")\n",
    "    fig.tight_layout()\n",
    "    return ax\n",
    "\n",
    "np.set_printoptions(precision=2)\n",
    "\n",
    "class_names = ['cardboard', 'glass', 'metal', 'paper', 'plastic', 'trash']\n",
    "class_names = np.asarray(class_names)\n",
    "\n",
    "# Plot non-normalized confusion matrix\n",
    "plot_confusion_matrix(testGenerator.classes, y_pred, classes=class_names, title='Confusion matrix, without normalization')\n",
    "# Plot normalized confusion matrix\n",
    "plot_confusion_matrix(testGenerator.classes, y_pred, classes=class_names, normalize=True, title='Normalized confusion matrix')\n",
    "\n",
    "#plt.show()"
   ]
  },
  {
   "cell_type": "code",
   "execution_count": null,
   "metadata": {},
   "outputs": [],
   "source": []
  }
 ],
 "metadata": {
  "kernelspec": {
   "display_name": "Python 3",
   "language": "python",
   "name": "python3"
  },
  "language_info": {
   "codemirror_mode": {
    "name": "ipython",
    "version": 3
   },
   "file_extension": ".py",
   "mimetype": "text/x-python",
   "name": "python",
   "nbconvert_exporter": "python",
   "pygments_lexer": "ipython3",
   "version": "3.6.8"
  }
 },
 "nbformat": 4,
 "nbformat_minor": 2
}
